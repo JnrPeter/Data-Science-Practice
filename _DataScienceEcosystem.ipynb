{
 "cells": [
  {
   "cell_type": "markdown",
   "id": "17556008-6b31-4ad2-b5a7-d858f1d28250",
   "metadata": {},
   "source": [
    "# Data Science Tools and Ecosystem"
   ]
  },
  {
   "cell_type": "markdown",
   "id": "7490bcfc-ba11-4e47-b143-2010a5ed3124",
   "metadata": {},
   "source": [
    "### In this notebook, Data Science Tools and Ecosystem are summarized"
   ]
  },
  {
   "cell_type": "markdown",
   "id": "2ccfe67c-b9b3-463c-88f7-9ea4c4a0de67",
   "metadata": {},
   "source": [
    "###### Objectives:\n",
    "\n",
    "- Data Sceince Languages\n",
    "- Commonly Used Data Sceince Libraries'\n",
    "- Data Science Tools\n",
    "- Evaluating Arithmetric Expressions"
   ]
  },
  {
   "cell_type": "markdown",
   "id": "c2db8cf5-6687-4943-8249-0f1b912059d0",
   "metadata": {},
   "source": [
    "#### Some of the popular languages that Data Scientists use are:\n",
    "1.Python\n",
    "\n",
    "2.SQL.\n",
    "\n",
    "3.R"
   ]
  },
  {
   "cell_type": "markdown",
   "id": "8e7cfc43-99b3-4538-8bb3-2067281d2ee5",
   "metadata": {},
   "source": [
    "#### Some of the commonly used libraries used by Data Scientists include:\n",
    "\n",
    "1.Matplotlib\n",
    "\n",
    "2.NumPy\n",
    "\n",
    "3.Pandas\n",
    "\n",
    "4.ggplot"
   ]
  },
  {
   "cell_type": "markdown",
   "id": "e553357a-59f3-4f2e-9585-0eda3686dddf",
   "metadata": {},
   "source": [
    "| Data Sceince Tools|\n",
    " --------------------\n",
    "| Apache Spark|\n",
    "|SAS|\n",
    "|MATLAB|"
   ]
  },
  {
   "cell_type": "markdown",
   "id": "6d63b955-d973-4901-9554-1586d840c89f",
   "metadata": {},
   "source": [
    "### Below are a few examples of evaluating arithmetic expressions in Python"
   ]
  },
  {
   "cell_type": "code",
   "execution_count": 3,
   "id": "86022644-1c93-418e-bbf8-ce8efdacaf04",
   "metadata": {},
   "outputs": [
    {
     "data": {
      "text/plain": [
       "17"
      ]
     },
     "execution_count": 3,
     "metadata": {},
     "output_type": "execute_result"
    }
   ],
   "source": [
    "(3*4)+5"
   ]
  },
  {
   "cell_type": "code",
   "execution_count": null,
   "id": "3c03602c-77e1-405f-827a-3ac45a1b2412",
   "metadata": {},
   "outputs": [],
   "source": []
  },
  {
   "cell_type": "code",
   "execution_count": 4,
   "id": "9a233164-d093-44a5-bd2f-d74ffcb2d5aa",
   "metadata": {},
   "outputs": [
    {
     "name": "stdout",
     "output_type": "stream",
     "text": [
      "3.3333333333333335\n"
     ]
    }
   ],
   "source": [
    "#This will convert 200 minutes to hours by diving by 60\n",
    "\n",
    "minutes = 200\n",
    "hours = minutes / 60\n",
    "\n",
    "print(hours)\n"
   ]
  },
  {
   "cell_type": "markdown",
   "id": "5130c393-7e2a-402c-bbdf-e17a53f58f11",
   "metadata": {},
   "source": [
    "## Author\n",
    "\n",
    "Peter Enning Junior"
   ]
  }
 ],
 "metadata": {
  "kernelspec": {
   "display_name": "Python 3 (ipykernel)",
   "language": "python",
   "name": "python3"
  },
  "language_info": {
   "codemirror_mode": {
    "name": "ipython",
    "version": 3
   },
   "file_extension": ".py",
   "mimetype": "text/x-python",
   "name": "python",
   "nbconvert_exporter": "python",
   "pygments_lexer": "ipython3",
   "version": "3.9.12"
  }
 },
 "nbformat": 4,
 "nbformat_minor": 5
}
